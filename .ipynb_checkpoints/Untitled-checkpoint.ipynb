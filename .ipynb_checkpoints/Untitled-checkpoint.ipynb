{
 "cells": [
  {
   "cell_type": "code",
   "execution_count": 2,
   "metadata": {},
   "outputs": [],
   "source": [
    "import numpy as np\n",
    "import re"
   ]
  },
  {
   "cell_type": "code",
   "execution_count": 4,
   "metadata": {},
   "outputs": [],
   "source": [
    "def shuffle(deck):\n",
    "    deck = [ '{}{}'.format(suit,face) for suit in ['H','D','S','C'] for face in range(2,15)]\n",
    "    return deck"
   ]
  },
  {
   "cell_type": "code",
   "execution_count": 5,
   "metadata": {},
   "outputs": [],
   "source": [
    "def deal(deck):\n",
    "    if len(deck) <= 10:\n",
    "        deck = shuffle(deck)\n",
    "        print(\"Shuffling the deck...\")\n",
    "    player = []\n",
    "    dealer = []\n",
    "    for i in range(0,2):\n",
    "        card = np.random.choice(deck, 1)[0]\n",
    "        player.append(card)\n",
    "        deck.remove(card)\n",
    "        card = np.random.choice(deck, 1)[0]\n",
    "        dealer.append(card)\n",
    "        deck.remove(card)\n",
    "    return player, dealer"
   ]
  },
  {
   "cell_type": "code",
   "execution_count": 19,
   "metadata": {},
   "outputs": [],
   "source": [
    "def get_score(hand):\n",
    "    score = 0\n",
    "    for i in range(0, len(hand)):\n",
    "        lst = re.findall(\"\\d+\", hand[i])\n",
    "        n = int(lst[0])\n",
    "        if n == 14:\n",
    "            n = int(input(\"Would you like to use your 'Ace' as 1 or 11?   \"))\n",
    "            while(n != 1 and n != 11):\n",
    "                n = int(input(\"Would you like to use your 'Ace' as 1 or 11?   \"))\n",
    "            \n",
    "        elif n >= 11:\n",
    "            n = 10\n",
    "        score = score + n\n",
    "    return score\n",
    "\n",
    "def get_dealer_score(hand):\n",
    "    score = 0\n",
    "    ones = 0\n",
    "    for i in range(0, len(hand)):\n",
    "        lst = re.findall(\"\\d+\", hand[i])\n",
    "        n = int(lst[0])\n",
    "        if n == 14:\n",
    "            ones = ones + 1\n",
    "        elif n >= 11:\n",
    "            n = 10\n",
    "        score = score + n\n",
    "    for i in range(0, ones):\n",
    "        if score + 11 >= 17 and score + 11 <= 21:\n",
    "            score = score + 11\n",
    "        elif score + 11 <= 21:\n",
    "            score = score + 11\n",
    "        else:\n",
    "            score = score + 1\n",
    "    \n",
    "    return score\n",
    "    "
   ]
  },
  {
   "cell_type": "code",
   "execution_count": 26,
   "metadata": {},
   "outputs": [],
   "source": [
    "def game():\n",
    "    deck = [ '{}{}'.format(suit,face) for suit in ['H','D','S','C'] for face in range(2,15) ]\n",
    "    play_again = \"Y\"\n",
    "    while play_again is not \"N\":\n",
    "        if len(deck) <= 10:\n",
    "            deck = shuffle(deck)\n",
    "            print(\"Shuffling the deck...\")\n",
    "        player, dealer = deal(deck)\n",
    "        print(\"Your hand is {}\".format(player))\n",
    "        print(\"Dealer is showing {}\".format(dealer[1]))\n",
    "        player_score = get_score(player)\n",
    "        print(\"Your score is {}\".format(player_score))\n",
    "        hit = input(\"Would you like to hit? (Y/N)   \")\n",
    "        while hit is not \"N\":\n",
    "            card = np.random.choice(deck, 1)[0]\n",
    "            player.append(card)\n",
    "            deck.remove(card)\n",
    "            player_score = get_score(player)\n",
    "            print(\"Your hand is {}\".format(player))\n",
    "            print(\"Your score is {}\".format(player_score))\n",
    "            if player_score > 21:\n",
    "                hit = \"N\"\n",
    "            else:\n",
    "                hit = input(\"Would you like to hit? (Y/N)   \")\n",
    "        if player_score > 21:\n",
    "            play_again = input(\"You busted! Would you like to player again? (Y/N)   \")\n",
    "        else:\n",
    "            print()\n",
    "            print(\"Dealer's hand is {}\".format(dealer))\n",
    "            dealer_score = get_dealer_score(dealer)\n",
    "            print(\"Delaer's score is {}\".format(dealer_score))\n",
    "            while dealer_score <= 16:\n",
    "                card = np.random.choice(deck, 1)[0]\n",
    "                dealer.append(card)\n",
    "                deck.remove(card)\n",
    "                dealer_score = get_dealer_score(dealer)\n",
    "                print(\"Dealer's hand is {}\".format(dealer))\n",
    "                print(\"Delaer's score is {}\".format(dealer_score))\n",
    "            if dealer_score > 21:\n",
    "                play_again = input(\"Dealer busted! Would you like to player again? (Y/N)   \")\n",
    "            elif player_score > dealer_score:\n",
    "                play_again = input(\"You won! Would you like to player again? (Y/N)   \")\n",
    "            elif player_score < dealer_score:\n",
    "                play_again = input(\"You lost... Would you like to player again? (Y/N)   \")\n",
    "            else:\n",
    "                play_again = input(\"You tied... Would you like to player again? (Y/N)   \")\n",
    "            \n",
    "            "
   ]
  }
 ],
 "metadata": {
  "kernelspec": {
   "display_name": "Python 3",
   "language": "python",
   "name": "python3"
  },
  "language_info": {
   "codemirror_mode": {
    "name": "ipython",
    "version": 3
   },
   "file_extension": ".py",
   "mimetype": "text/x-python",
   "name": "python",
   "nbconvert_exporter": "python",
   "pygments_lexer": "ipython3",
   "version": "3.7.0"
  }
 },
 "nbformat": 4,
 "nbformat_minor": 2
}
